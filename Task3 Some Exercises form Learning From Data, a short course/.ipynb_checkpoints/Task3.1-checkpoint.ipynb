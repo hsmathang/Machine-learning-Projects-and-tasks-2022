{
 "cells": [
  {
   "cell_type": "markdown",
   "id": "4db57b61",
   "metadata": {},
   "source": [
    "# Some Exercises Chapter one (Learning from Data)\n"
   ]
  },
  {
   "cell_type": "markdown",
   "id": "3ef3a204",
   "metadata": {},
   "source": [
    "## 1.2\n",
    "Suppose that we use a perceptron to detect spam messages. Let's say that each email message is represented by the frequency of occurrence of keywords, and the output is if the message is considered spam."
   ]
  },
  {
   "cell_type": "markdown",
   "id": "e48ff5d5",
   "metadata": {},
   "source": [
    "#### (a) Can you thinkofsome keywords that will end up with a large positive weight in the perceptron?"
   ]
  },
  {
   "cell_type": "markdown",
   "id": "3dc83b0d",
   "metadata": {},
   "source": [
    "Keywords with a large positive weight: , congrats, free, cheap, earn, Oportunity, etc"
   ]
  },
  {
   "cell_type": "markdown",
   "id": "8f2326eb",
   "metadata": {},
   "source": [
    "#### (b) How about keywords that will get a negative weight?"
   ]
  },
  {
   "cell_type": "markdown",
   "id": "52ff82b2",
   "metadata": {},
   "source": [
    " person name, hi, the, he, she, regards, etc"
   ]
  },
  {
   "cell_type": "markdown",
   "id": "481dc523",
   "metadata": {},
   "source": [
    "#### (c) What parameter in the perceptron directly affects how many borderline messages end up being classified as spam?"
   ]
  },
  {
   "cell_type": "markdown",
   "id": "30a35d9f",
   "metadata": {},
   "source": [
    "The parameter  in perceptron directly affects how many borderline messages end up being classified as spam. This is because  is the threshold used to classify the emails into spam and non-spam categories."
   ]
  },
  {
   "cell_type": "markdown",
   "id": "76543fce",
   "metadata": {},
   "source": [
    "## 1.3 \n",
    "The weight update rule in (1.3) has the nice interpretation that it moves in the direction of classifying $x(t)$ correctly. \n",
    "\n",
    "$w(t+1)= w(t)+y(t)x(t)$. (1.3)"
   ]
  },
  {
   "cell_type": "markdown",
   "id": "a897b262",
   "metadata": {},
   "source": [
    "### (a) Show that $y(t)w^{T}(t)x(t) < 0$. [Hint: $x(t)$ is misclassified by $w(t)$.]"
   ]
  },
  {
   "cell_type": "markdown",
   "id": "2df9db3a",
   "metadata": {},
   "source": [
    "Note that if $x(t)$ is misclassified by $w(t)$, then $w^{T}(t)x(t)$\n",
    " has different signs of $y(t)$ , thus $y(t)w^{T}(t)x(t) > 0$.\n"
   ]
  },
  {
   "cell_type": "markdown",
   "id": "22d17642",
   "metadata": {},
   "source": [
    "### (b)  Show that $y(t)w^{T}(t+1)x(t) > y(t)w^{T}(t)x(t)$. [Hint: Use (1.3).]"
   ]
  },
  {
   "cell_type": "markdown",
   "id": "0b762c08",
   "metadata": {},
   "source": [
    "Note the next relation: $$y(t)w^{T}(t)x(t) = y(t)(w(t)+ y(t)x(t))^{T}x(t)=y(t)(w(t)^{T}+ y(t)x(t)^{T})x(t)= y(t)w^{T}(t)x(t) + y(t)y(t)x(t)^{T}x(t)>y(t)w(t)^{T}x(t)$$, by the (a) part (1.3)"
   ]
  },
  {
   "cell_type": "markdown",
   "id": "788edecb",
   "metadata": {},
   "source": [
    "### (c) As far as classifying $x(t)$ is concerned, argue that the move from $w(t)$ to $w(t+ 1)$ is a move 'in the right direction'."
   ]
  },
  {
   "cell_type": "markdown",
   "id": "26006d9b",
   "metadata": {},
   "source": [
    "From (b) part, we  have  $y(t)w^{T}(t)x(t)$ is increasing with each iteration. Now, if $y(t)>0$, but $w^{T}(t)x(t)<0$, we move $w^{T}(t)x(t)$\n",
    " toward positive by increasing it. In the similar way when $y(t)<0$.\n",
    " So the move $w(t)$ from  to $w(t+1)$ is a move \"in the right direction\" as far as classifying  is $x(t)$ concerned.\n",
    "\n"
   ]
  },
  {
   "cell_type": "markdown",
   "id": "01e8387d",
   "metadata": {},
   "source": [
    "## 1.10 \n",
    "Here is an experiment that illustrates the difference between a single bin and multiple bins. Run a computer simulation for flipping 1,000 fair coins. Flip each coin independently times. Let's focus on 3 coins as follows: $c_1$ is the first coin flipped; $c_{rand}$ is a coin you choose at random; $c_{min}$ is the coin that had the minimum frequency of heads (pick the earlier one in case of a tie). Let $v_1$ , $v_{rand}$ and $v_{min}$ be the fraction of heads you obtain for the respective three coins."
   ]
  },
  {
   "cell_type": "code",
   "execution_count": 4,
   "id": "b8586708",
   "metadata": {},
   "outputs": [],
   "source": [
    "import numpy as np\n",
    "import matplotlib.pyplot as plt\n",
    "import math"
   ]
  },
  {
   "cell_type": "code",
   "execution_count": 5,
   "id": "28fd0d41",
   "metadata": {},
   "outputs": [],
   "source": [
    "\n",
    "def flip_coins(total_coins):\n",
    "    \"\"\"Flip all coins once, return their head/tail status\n",
    "    \"\"\"\n",
    "    \n",
    "    hts = np.zeros(total_coins) #head: 1, tail: 0\n",
    "    probs = np.random.uniform(size=total_coins)\n",
    "    hts[probs > 0.5] = 1\n",
    "    return hts\n",
    "\n",
    "\n",
    "def run_once(total_coins, total_flips, print_freq = False):\n",
    "    v1, vrand, vmin = None, None, None\n",
    "    crand = np.random.choice(total_coins)\n",
    "    hts_sum = np.zeros(total_coins) # store the sum of heads in total_flips\n",
    "    \n",
    "    for flip in range(total_flips):\n",
    "        hts_sum = hts_sum + flip_coins(total_coins)\n",
    "    \n",
    "    hts_freq = hts_sum/total_flips\n",
    "    \n",
    "    v1 = hts_freq[0]\n",
    "    vrand = hts_freq[crand]\n",
    "    cmin = np.argmin(hts_sum)\n",
    "    vmin = hts_freq[cmin]\n",
    "    \n",
    "    if print_freq:\n",
    "        print('Frequency of first coin: {}'.format(v1))\n",
    "        print('Frequency of a random coin: id({})-freq({})'.format(crand, vrand))\n",
    "        print('Frequency of the coin with minimum frequency: id({})-freq({})'.format(cmin, vmin))\n",
    "    return v1,vrand,vmin\n"
   ]
  },
  {
   "cell_type": "markdown",
   "id": "f47ad41b",
   "metadata": {},
   "source": [
    "### (a) What is $μ$ for the three coins selected?"
   ]
  },
  {
   "cell_type": "code",
   "execution_count": 6,
   "id": "9ca61ef8",
   "metadata": {
    "scrolled": false
   },
   "outputs": [
    {
     "name": "stdout",
     "output_type": "stream",
     "text": [
      "Frequency of first coin: 0.3\n",
      "Frequency of a random coin: id(335)-freq(0.6)\n",
      "Frequency of the coin with minimum frequency: id(43)-freq(0.0)\n"
     ]
    },
    {
     "data": {
      "text/plain": [
       "(0.3, 0.6, 0.0)"
      ]
     },
     "execution_count": 6,
     "metadata": {},
     "output_type": "execute_result"
    }
   ],
   "source": [
    "total_coins = 1000\n",
    "total_flips = 10\n",
    "run_once(total_coins, total_flips, True)"
   ]
  },
  {
   "cell_type": "markdown",
   "id": "e4239cac",
   "metadata": {},
   "source": [
    "### (b) \n",
    "Repeat this entire experiment a large number of times (e.g., 100, 000 runs of the entire experiment) to get several instances of $v_1$ , $v_{rand}$ and $v_{min}$ and plot the histograms of the distributions of $v_1$ , $v_{rand}$ and $v_{min}$. Notice that which coins end up being $c_{rand}$ and $c_{min}$ may differ from one run to another."
   ]
  },
  {
   "cell_type": "code",
   "execution_count": 7,
   "id": "1f317300",
   "metadata": {},
   "outputs": [
    {
     "data": {
      "text/plain": [
       "(array([6.23686e+05, 0.00000e+00, 0.00000e+00, 0.00000e+00, 0.00000e+00,\n",
       "        3.76301e+05, 0.00000e+00, 0.00000e+00, 0.00000e+00, 1.30000e+01]),\n",
       " array([0.  , 0.02, 0.04, 0.06, 0.08, 0.1 , 0.12, 0.14, 0.16, 0.18, 0.2 ]),\n",
       " <BarContainer object of 10 artists>)"
      ]
     },
     "execution_count": 7,
     "metadata": {},
     "output_type": "execute_result"
    },
    {
     "data": {
      "image/png": "[encoded data removed]",
      "text/plain": [
       "<Figure size 432x288 with 3 Axes>"
      ]
     },
     "metadata": {
      "needs_background": "light"
     },
     "output_type": "display_data"
    }
   ],
   "source": [
    "total_coins = 1000\n",
    "total_flips = 10\n",
    "total_runs = 1000000\n",
    "v1s, vrands, vmins = [],[],[]\n",
    "for run in range(total_runs):\n",
    "    v1,vrand,vmin = run_once(total_coins, total_flips)\n",
    "    v1s.append(v1)\n",
    "    vrands.append(vrand)\n",
    "    vmins.append(vmin)\n",
    "\n",
    "fig, axs = plt.subplots(1,3,sharey=True, tight_layout=True)\n",
    "n_bins = 10\n",
    "axs[0].hist(v1s,bins=n_bins)\n",
    "axs[1].hist(vrands,bins=n_bins)\n",
    "axs[2].hist(vmins,bins=n_bins)"
   ]
  },
  {
   "cell_type": "markdown",
   "id": "48e85ad8",
   "metadata": {},
   "source": [
    "### (c) Using (b), plot estimates for $\\mathbb{P}[|v-μ| > \\epsilon]$ as a function of $\\epsilon$, together with the Hoeffding bound $2e^{-2\\epsilon^{2}N}$ (on the same graph)."
   ]
  },
  {
   "cell_type": "code",
   "execution_count": 9,
   "id": "12c97c82",
   "metadata": {},
   "outputs": [],
   "source": [
    "def hoeffding_bound(epsilon, n):\n",
    "    return 2.0*np.exp(-2.0*n*epsilon**2)"
   ]
  },
  {
   "cell_type": "code",
   "execution_count": 10,
   "id": "b40130be",
   "metadata": {},
   "outputs": [
    {
     "data": {
      "text/plain": [
       "<matplotlib.legend.Legend at 0x120590b50>"
      ]
     },
     "execution_count": 10,
     "metadata": {},
     "output_type": "execute_result"
    },
    {
     "data": {
      "image/png": "[encoded data removed]",
      "text/plain": [
       "<Figure size 432x288 with 1 Axes>"
      ]
     },
     "metadata": {
      "needs_background": "light"
     },
     "output_type": "display_data"
    }
   ],
   "source": [
    "eps = np.arange(0.0,0.5,0.05)\n",
    "bounds = hoeffding_bound(eps, total_flips)\n",
    "v1s, vrands, vmins = np.array(v1s), np.array(vrands), np.array(vmins)\n",
    "v1d = np.abs(v1s-0.5)\n",
    "vrandd = np.abs(vrands-0.5)\n",
    "vmind = np.abs(vmins-0.5)\n",
    "\n",
    "p1, prand, pmin = np.zeros(len(eps)),np.zeros(len(eps)),np.zeros(len(eps))\n",
    "\n",
    "for idx in range(eps.shape[0]):\n",
    "    ep = eps[idx]\n",
    "    p1[idx] = np.sum(v1d > ep)/total_runs\n",
    "    prand[idx] = np.sum(vrandd > ep)/total_runs\n",
    "    pmin[idx] = np.sum(vmind > ep)/total_runs\n",
    "\n",
    "#plt.ylim((0,0.01))    \n",
    "plt.plot(eps, bounds, marker='o', markerfacecolor='blue', markersize=8, color='skyblue', label='Hoeffding Bound')\n",
    "plt.plot(eps, p1, marker='', color='r', linewidth=1, label='First Coin')\n",
    "plt.plot(eps, prand, marker='', color='g', linewidth=1, linestyle='dashed', label='Random Coin')\n",
    "plt.plot(eps, pmin, marker='', color='y', linewidth=1, linestyle='dashed', label='Coin with Minimum Freq')\n",
    "plt.legend()"
   ]
  },
  {
   "cell_type": "markdown",
   "id": "136d87c8",
   "metadata": {},
   "source": [
    "### (d) Which coins obey the Hoeffding bound, and which ones do not? Ex­ plain why."
   ]
  },
  {
   "cell_type": "markdown",
   "id": "63ee7da0",
   "metadata": {},
   "source": [
    "The first and random coins follow the Hoeffding bound. The coin with minimum frequency doesn't obey Hoeffding bound. This is because that for the first two coins, the coins were chosen before the experiment. While for the last one, we have to flip all the coins first, and use the data to compute out which is the coin with minimum frequency of heads. This violates the Hoeffding inequality condition which says the hypothesis  has been fixed before samples were drawn."
   ]
  },
  {
   "cell_type": "markdown",
   "id": "26e0a568",
   "metadata": {},
   "source": [
    "### (e) Relate part (d) to the multiple bins in Figure 1.10"
   ]
  },
  {
   "cell_type": "markdown",
   "id": "269812f9",
   "metadata": {},
   "source": [
    "When we choose the coin having the minimum frequency of heads. We are like choosing the bin from 1000 bins (our hypothesis space). But we choose bin after we finish sampling the data. This is akin to learning algorithm for the final hypothesis. The other two coins were chosen before the sampling, which is choosing bin beforehand.\n",
    "\n"
   ]
  },
  {
   "cell_type": "markdown",
   "id": "4c89882f",
   "metadata": {},
   "source": [
    "## 1.11 \n",
    "We are given a data set $D$ of 25 training examples from an unknown target function $f:X \\rightarrow Y$ , where $X=\\mathbb{R}$ and $Y =\\{-1,+1\\}$. To learn $f$, we use a simple hypothesis set $H=\\{h_1, h_2\\}$ where $h_1$ is the constant function and $h_2$ is the constant -1.We consider two learning algorithms, S (smart) and  C (crazy). S chooses the hypothesis that agrees the most with $D$ and C chooses the other hypothesis de liberately. Let us see how these algorithms perform out of sample from the deterministic and probabilistic points of view. Assume in the probabilistic view that there is a probability distribution on $X$, and let $\\mathbb{P}[f(x) = +1]= p$."
   ]
  },
  {
   "cell_type": "markdown",
   "id": "31df0263",
   "metadata": {},
   "source": [
    "### (a) Can S produce a hypothesis that is guaranteed to perform better than random on any point outside $D$?"
   ]
  },
  {
   "cell_type": "markdown",
   "id": "cd57c2e5",
   "metadata": {},
   "source": [
    "$S$  can not produce a hypothesis that is guaranteed to perform better than random on any point outside $D$. If $f$ has 25+1  on $D$ but -1 on all other points in $X$, $S$ will choose the hypothesis $h_1$ \n",
    ", which will not match $f$ outside of $D$ at all. On the other hand, a random function will have +1 and -1 50/50, and it matches $f$ half of time, which is better than the function produced by $S$."
   ]
  },
  {
   "cell_type": "markdown",
   "id": "feba14bf",
   "metadata": {},
   "source": [
    "### (b) Assume for the rest of the exercise that all the examples in $D$ have $Y_n = 1$. Is it possible that the hypothesis that C produces turns out to be better than the hypothesis that S produces?"
   ]
  },
  {
   "cell_type": "markdown",
   "id": "6512b21c",
   "metadata": {},
   "source": [
    "It is possible that $C$ produces a better hypothesis than $S$ produces. See the previous example."
   ]
  },
  {
   "cell_type": "markdown",
   "id": "5e3a4353",
   "metadata": {},
   "source": [
    "### (c) If $p = 0.9$, what is the probability that S will produce a better hypothesis than C?"
   ]
  },
  {
   "cell_type": "markdown",
   "id": "ede8aa7b",
   "metadata": {},
   "source": [
    " NOte that if every point in $D$ has 1, then $S$ will choose $h_1$ \n",
    " and $C$ will choose $h_2$\n",
    ". So outside of $D$, $h_1$\n",
    " will have 90% chance to match with $f$, while $h_2$\n",
    " will have only 10% chance. $S$ will always produce a better hypothesis than $C$."
   ]
  },
  {
   "cell_type": "markdown",
   "id": "e4a59e6a",
   "metadata": {},
   "source": [
    "### (d) Is there any value of $p$ for which it is more likely than not that C will produce a better hypothesis than S?\n"
   ]
  },
  {
   "cell_type": "markdown",
   "id": "2fa61196",
   "metadata": {},
   "source": [
    "From previous problem, we can see that when $p<0.5$ ,$C$  will produce a better hypothesis than $S$. Since $C$ always produce \n",
    "$h_2$, which will match $f$ better than $h_1$\n",
    " if $p<0.5$."
   ]
  },
  {
   "cell_type": "markdown",
   "id": "c3fa6f5b",
   "metadata": {},
   "source": [
    "## Exercise 1.12\n",
    "A friend comes to you with a learning problem. She says the target function $f$ is completely unknown, but she has 4, 000 data points. She is willing to pay you to solve her problem and produce for her a $g$ which approximates $f$. What is the best that you can promise her among the following:"
   ]
  },
  {
   "cell_type": "markdown",
   "id": "4864fee4",
   "metadata": {},
   "source": [
    "### (a) After learning you will provide her with a $g$ that you will guarantee approximates $f$ well out of sample."
   ]
  },
  {
   "cell_type": "markdown",
   "id": "a3e03376",
   "metadata": {},
   "source": [
    "### (b) After learning you will provide her with a $g$, and with high probability the $g$ which you produce will approximate $f$ well out of sample."
   ]
  },
  {
   "cell_type": "markdown",
   "id": "f253cc45",
   "metadata": {},
   "source": [
    "###  (c) One of two things will happen.\n",
    "(i) You will produce a hypothesis $g$; \n",
    "(ii) You will declare that you failed.\n",
    "If you do return a hypothesis $g$, then with high probabilitythe $g$ which\n",
    "you produce will approximate $f$ well out of sample"
   ]
  },
  {
   "cell_type": "markdown",
   "id": "9d986159",
   "metadata": {},
   "source": [
    "### I think the best is (c)\n",
    "Because, If we can learn and produce a hypothesis $g$, since there are many data points (4000), the probability that $g$ matches $f$ is high according to Hoeffding inequality, and the error on $g$ might be small since we have a large data set. In the other hand, the unknown target  $f$ can be very complex that we can't learn at all."
   ]
  },
  {
   "cell_type": "code",
   "execution_count": null,
   "id": "1d4b978d",
   "metadata": {},
   "outputs": [],
   "source": []
  }
 ],
 "metadata": {
  "kernelspec": {
   "display_name": "Python 3 (ipykernel)",
   "language": "python",
   "name": "python3"
  },
  "language_info": {
   "codemirror_mode": {
    "name": "ipython",
    "version": 3
   },
   "file_extension": ".py",
   "mimetype": "text/x-python",
   "name": "python",
   "nbconvert_exporter": "python",
   "pygments_lexer": "ipython3",
   "version": "3.9.12"
  }
 },
 "nbformat": 4,
 "nbformat_minor": 5
}
